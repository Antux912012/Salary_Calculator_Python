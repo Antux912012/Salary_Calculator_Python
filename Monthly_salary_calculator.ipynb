{
 "cells": [
  {
   "cell_type": "code",
   "execution_count": 7,
   "metadata": {},
   "outputs": [
    {
     "name": "stdout",
     "output_type": "stream",
     "text": [
      "Welcome to this notebook, I am Antonio De Gaetano and I am more than welcome to invite you to use this tool. Feel free to comment and share your tips\n"
     ]
    }
   ],
   "source": [
    "print(\"Welcome to this notebook, I am Antonio De Gaetano and I am more than welcome to invite you to use this tool. Feel free to comment and share your tips\")"
   ]
  },
  {
   "cell_type": "markdown",
   "metadata": {},
   "source": [
    "# Salary Calculator\n",
    "\n",
    "Below insert the monthly salary you receive, the bonus percentage you are allowed to receive from your employers if you are eligible, and any food allowance if you are entitled.\n",
    "Then, run all and enjoy the calculations. \n",
    "\n",
    "  <b><i>Disclaimer : These calculation are rough and maybe don't reflect your payroll. So, keep in mind that this tool can gve you only a roughly idea about your salary</b></i>\n",
    "  \n"
   ]
  },
  {
   "cell_type": "code",
   "execution_count": 8,
   "metadata": {},
   "outputs": [],
   "source": [
    "# Declaring variables\n",
    "\n",
    "monthly_salary_gross = 1350.00\n",
    "monthly_salary_bonus = monthly_salary_gross*0.08\n",
    "monthly_food_allowance = 50.00\n",
    "year_payments = 14\n",
    "tax_rates = [0.09, 0.22, 0.28, 0.36, 0.44]\n",
    "IKA = 0.139 # IKA contributions from your salary \n",
    "yearly_salary_gross = monthly_salary_gross * year_payments\n"
   ]
  },
  {
   "cell_type": "code",
   "execution_count": 9,
   "metadata": {},
   "outputs": [],
   "source": [
    "# Conditions for taxes to be applied\n",
    "\n",
    "if yearly_salary_gross <= 10000 :\n",
    "    tax_paid_yearly = yearly_salary_gross*tax_rates[0]\n",
    "    tax_paid_monthly = tax_paid_yearly/year_payments\n",
    "elif yearly_salary_gross <= 20000 :\n",
    "    tax_paid_yearly = yearly_salary_gross*tax_rates[1]\n",
    "    tax_paid_monthly = tax_paid_yearly/year_payments\n",
    "elif yearly_salary_gross <= 30000 :\n",
    "    tax_paid_yearly = yearly_salary_gross*tax_rates[2]\n",
    "    tax_paid_monthly = tax_paid_yearly/year_payments\n",
    "elif yearly_salary_gross <= 40000 :\n",
    "    tax_paid_yearly = yearly_salary_gross*tax_rates[3]\n",
    "    tax_paid_monthly = tax_paid_yearly/year_payments\n",
    "elif yearly_salary_gross > 40001 :\n",
    "    tax_paid_yearly = yearly_salary_gross*tax_rates[4]\n",
    "    tax_paid_monthly = tax_paid_yearly/year_payments\n"
   ]
  },
  {
   "cell_type": "code",
   "execution_count": 10,
   "metadata": {},
   "outputs": [
    {
     "name": "stdout",
     "output_type": "stream",
     "text": [
      "Annual Salary Gross = 18900.0 €\n",
      "Annual Taxes paid 4158.0 €\n",
      "IKA paid yearly 2627.1 €\n"
     ]
    }
   ],
   "source": [
    "# print outputs\n",
    "\n",
    "print(\"Annual Salary Gross =\",round(yearly_salary_gross,2),\"€\")\n",
    "print(\"Annual Taxes paid\",round(tax_paid_yearly,2),\"€\")\n",
    "print(\"IKA paid yearly\", round(IKA*yearly_salary_gross,2), \"€\")"
   ]
  },
  {
   "cell_type": "code",
   "execution_count": 11,
   "metadata": {},
   "outputs": [],
   "source": [
    "# net salary monthly\n",
    "monthly_net_salary_no_IKA = ((yearly_salary_gross - tax_paid_yearly)/year_payments)+monthly_salary_bonus\n",
    "monthly_IKA = IKA*(yearly_salary_gross/year_payments)\n"
   ]
  },
  {
   "cell_type": "code",
   "execution_count": 12,
   "metadata": {},
   "outputs": [
    {
     "name": "stdout",
     "output_type": "stream",
     "text": [
      "1161.0 €, which bonus is: 108.0 €\n",
      "187.65 €\n"
     ]
    }
   ],
   "source": [
    "print(monthly_net_salary_no_IKA, \"€, which bonus is:\",monthly_salary_bonus,\"€\")\n",
    "print(round(monthly_IKA,2), \"€\")"
   ]
  }
 ],
 "metadata": {
  "kernelspec": {
   "display_name": "Python 3",
   "language": "python",
   "name": "python3"
  },
  "language_info": {
   "codemirror_mode": {
    "name": "ipython",
    "version": 3
   },
   "file_extension": ".py",
   "mimetype": "text/x-python",
   "name": "python",
   "nbconvert_exporter": "python",
   "pygments_lexer": "ipython3",
   "version": "3.11.6"
  }
 },
 "nbformat": 4,
 "nbformat_minor": 2
}
